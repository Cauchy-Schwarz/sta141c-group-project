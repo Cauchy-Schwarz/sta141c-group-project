{
 "cells": [
  {
   "cell_type": "code",
   "execution_count": 1,
   "id": "604e8912",
   "metadata": {},
   "outputs": [],
   "source": [
    "# packages\n",
    "from statsmodels.stats.outliers_influence import variance_inflation_factor\n",
    "from sklearn.model_selection import train_test_split\n",
    "from sklearn import linear_model\n",
    "import numpy as np\n",
    "import pandas as pd\n",
    "import seaborn as sn\n",
    "from matplotlib import pyplot as plt\n",
    "from sklearn.metrics import confusion_matrix"
   ]
  },
  {
   "cell_type": "code",
   "execution_count": 2,
   "id": "28805371",
   "metadata": {},
   "outputs": [],
   "source": [
    "# read data\n",
    "read = pd.read_csv('sta141c_airlines_delay.csv', header = 0) "
   ]
  },
  {
   "cell_type": "code",
   "execution_count": 3,
   "id": "1ddaea6d",
   "metadata": {
    "scrolled": true
   },
   "outputs": [
    {
     "data": {
      "text/html": [
       "<div>\n",
       "<style scoped>\n",
       "    .dataframe tbody tr th:only-of-type {\n",
       "        vertical-align: middle;\n",
       "    }\n",
       "\n",
       "    .dataframe tbody tr th {\n",
       "        vertical-align: top;\n",
       "    }\n",
       "\n",
       "    .dataframe thead th {\n",
       "        text-align: right;\n",
       "    }\n",
       "</style>\n",
       "<table border=\"1\" class=\"dataframe\">\n",
       "  <thead>\n",
       "    <tr style=\"text-align: right;\">\n",
       "      <th></th>\n",
       "      <th>Flight</th>\n",
       "      <th>Time</th>\n",
       "      <th>Length</th>\n",
       "      <th>Airline</th>\n",
       "      <th>AirportFrom</th>\n",
       "      <th>AirportTo</th>\n",
       "      <th>DayOfWeek</th>\n",
       "      <th>Class</th>\n",
       "    </tr>\n",
       "  </thead>\n",
       "  <tbody>\n",
       "    <tr>\n",
       "      <th>0</th>\n",
       "      <td>2313</td>\n",
       "      <td>1296</td>\n",
       "      <td>141</td>\n",
       "      <td>DL</td>\n",
       "      <td>ATL</td>\n",
       "      <td>HOU</td>\n",
       "      <td>1</td>\n",
       "      <td>0</td>\n",
       "    </tr>\n",
       "    <tr>\n",
       "      <th>1</th>\n",
       "      <td>6948</td>\n",
       "      <td>360</td>\n",
       "      <td>146</td>\n",
       "      <td>OO</td>\n",
       "      <td>COS</td>\n",
       "      <td>ORD</td>\n",
       "      <td>4</td>\n",
       "      <td>0</td>\n",
       "    </tr>\n",
       "    <tr>\n",
       "      <th>2</th>\n",
       "      <td>1247</td>\n",
       "      <td>1170</td>\n",
       "      <td>143</td>\n",
       "      <td>B6</td>\n",
       "      <td>BOS</td>\n",
       "      <td>CLT</td>\n",
       "      <td>3</td>\n",
       "      <td>0</td>\n",
       "    </tr>\n",
       "    <tr>\n",
       "      <th>3</th>\n",
       "      <td>31</td>\n",
       "      <td>1410</td>\n",
       "      <td>344</td>\n",
       "      <td>US</td>\n",
       "      <td>OGG</td>\n",
       "      <td>PHX</td>\n",
       "      <td>6</td>\n",
       "      <td>0</td>\n",
       "    </tr>\n",
       "    <tr>\n",
       "      <th>4</th>\n",
       "      <td>563</td>\n",
       "      <td>692</td>\n",
       "      <td>98</td>\n",
       "      <td>FL</td>\n",
       "      <td>BMI</td>\n",
       "      <td>ATL</td>\n",
       "      <td>4</td>\n",
       "      <td>0</td>\n",
       "    </tr>\n",
       "    <tr>\n",
       "      <th>...</th>\n",
       "      <td>...</td>\n",
       "      <td>...</td>\n",
       "      <td>...</td>\n",
       "      <td>...</td>\n",
       "      <td>...</td>\n",
       "      <td>...</td>\n",
       "      <td>...</td>\n",
       "      <td>...</td>\n",
       "    </tr>\n",
       "    <tr>\n",
       "      <th>539377</th>\n",
       "      <td>6973</td>\n",
       "      <td>530</td>\n",
       "      <td>72</td>\n",
       "      <td>OO</td>\n",
       "      <td>GEG</td>\n",
       "      <td>SEA</td>\n",
       "      <td>5</td>\n",
       "      <td>1</td>\n",
       "    </tr>\n",
       "    <tr>\n",
       "      <th>539378</th>\n",
       "      <td>1264</td>\n",
       "      <td>560</td>\n",
       "      <td>115</td>\n",
       "      <td>WN</td>\n",
       "      <td>LAS</td>\n",
       "      <td>DEN</td>\n",
       "      <td>4</td>\n",
       "      <td>1</td>\n",
       "    </tr>\n",
       "    <tr>\n",
       "      <th>539379</th>\n",
       "      <td>5209</td>\n",
       "      <td>827</td>\n",
       "      <td>74</td>\n",
       "      <td>EV</td>\n",
       "      <td>CAE</td>\n",
       "      <td>ATL</td>\n",
       "      <td>2</td>\n",
       "      <td>1</td>\n",
       "    </tr>\n",
       "    <tr>\n",
       "      <th>539380</th>\n",
       "      <td>607</td>\n",
       "      <td>715</td>\n",
       "      <td>65</td>\n",
       "      <td>WN</td>\n",
       "      <td>BWI</td>\n",
       "      <td>BUF</td>\n",
       "      <td>4</td>\n",
       "      <td>1</td>\n",
       "    </tr>\n",
       "    <tr>\n",
       "      <th>539381</th>\n",
       "      <td>6377</td>\n",
       "      <td>770</td>\n",
       "      <td>55</td>\n",
       "      <td>OO</td>\n",
       "      <td>CPR</td>\n",
       "      <td>DEN</td>\n",
       "      <td>2</td>\n",
       "      <td>1</td>\n",
       "    </tr>\n",
       "  </tbody>\n",
       "</table>\n",
       "<p>539382 rows × 8 columns</p>\n",
       "</div>"
      ],
      "text/plain": [
       "        Flight  Time  Length Airline AirportFrom AirportTo  DayOfWeek  Class\n",
       "0         2313  1296     141      DL         ATL       HOU          1      0\n",
       "1         6948   360     146      OO         COS       ORD          4      0\n",
       "2         1247  1170     143      B6         BOS       CLT          3      0\n",
       "3           31  1410     344      US         OGG       PHX          6      0\n",
       "4          563   692      98      FL         BMI       ATL          4      0\n",
       "...        ...   ...     ...     ...         ...       ...        ...    ...\n",
       "539377    6973   530      72      OO         GEG       SEA          5      1\n",
       "539378    1264   560     115      WN         LAS       DEN          4      1\n",
       "539379    5209   827      74      EV         CAE       ATL          2      1\n",
       "539380     607   715      65      WN         BWI       BUF          4      1\n",
       "539381    6377   770      55      OO         CPR       DEN          2      1\n",
       "\n",
       "[539382 rows x 8 columns]"
      ]
     },
     "execution_count": 3,
     "metadata": {},
     "output_type": "execute_result"
    }
   ],
   "source": [
    "# drop rows with na values and reset the index\n",
    "df=read.dropna().reset_index(drop=True)\n",
    "df"
   ]
  },
  {
   "cell_type": "code",
   "execution_count": 4,
   "id": "fafaf70a",
   "metadata": {},
   "outputs": [
    {
     "data": {
      "text/plain": [
       "Flight          int64\n",
       "Time            int64\n",
       "Length          int64\n",
       "Airline        object\n",
       "AirportFrom    object\n",
       "AirportTo      object\n",
       "DayOfWeek       int64\n",
       "Class           int64\n",
       "dtype: object"
      ]
     },
     "execution_count": 4,
     "metadata": {},
     "output_type": "execute_result"
    }
   ],
   "source": [
    "# data types of each column\n",
    "df.dtypes"
   ]
  },
  {
   "cell_type": "markdown",
   "id": "a393b444",
   "metadata": {},
   "source": [
    "In order to linear regression on this dataset, the dataset most fulfill a set of assumptions.\n",
    "The dependent variable must be a binary variable: The class variable is our dependent variable, and it is binary. In addition, there must be a significant amount of samples in the dataset. This dataset gas 539381 samples, so it is enough. Finally, all of the predictor variables need to present little to no multicollinearity. We can confirm this using the VIF score procedure."
   ]
  },
  {
   "cell_type": "code",
   "execution_count": 5,
   "id": "1cd16252",
   "metadata": {},
   "outputs": [
    {
     "data": {
      "text/plain": [
       "array(['DL', 'OO', 'B6', 'US', 'FL', 'WN', 'CO', 'AA', 'YV', 'EV', 'XE',\n",
       "       '9E', 'OH', 'UA', 'MQ', 'AS', 'F9', 'HA'], dtype=object)"
      ]
     },
     "execution_count": 5,
     "metadata": {},
     "output_type": "execute_result"
    }
   ],
   "source": [
    "# unique Airline column values\n",
    "AirlineUnique = df.Airline.unique()\n",
    "AirlineUnique"
   ]
  },
  {
   "cell_type": "code",
   "execution_count": 6,
   "id": "43251e35",
   "metadata": {},
   "outputs": [
    {
     "data": {
      "text/plain": [
       "array(['ATL', 'COS', 'BOS', 'OGG', 'BMI', 'MSY', 'EWR', 'DFW', 'BWI',\n",
       "       'CRW', 'LGB', 'BIS', 'CLT', 'IAH', 'LAX', 'JAX', 'SAV', 'CLE',\n",
       "       'FLL', 'SAN', 'BHM', 'ROC', 'DTW', 'STT', 'AUS', 'DCA', 'PHX',\n",
       "       'EYW', 'IND', 'JFK', 'ORD', 'PBI', 'SFO', 'MIA', 'DSM', 'SLC',\n",
       "       'PHL', 'BZN', 'GRB', 'MBS', 'SBA', 'TYS', 'MSP', 'DEN', 'SAT',\n",
       "       'BUF', 'RIC', 'SEA', 'PDX', 'LAS', 'IAD', 'HNL', 'BDL', 'MOT',\n",
       "       'PSE', 'CPR', 'SNA', 'STL', 'CVG', 'PIT', 'HSV', 'SGF', 'RDU',\n",
       "       'MEM', 'KOA', 'ELP', 'SJU', 'JAN', 'AEX', 'LGA', 'RSW', 'MDT',\n",
       "       'GUC', 'MKE', 'CAE', 'GRR', 'FAR', 'LIT', 'OMA', 'BNA', 'EVV',\n",
       "       'RDD', 'OKC', 'ITO', 'SJC', 'MCO', 'LBB', 'CSG', 'OAK', 'PHF',\n",
       "       'ABQ', 'SMF', 'FAY', 'ABI', 'MSO', 'MFE', 'GEG', 'MSN', 'TPA',\n",
       "       'DAY', 'RNO', 'PVD', 'ALB', 'CHO', 'ONT', 'LIH', 'PSP', 'LAN',\n",
       "       'LEX', 'XNA', 'GJT', 'CMH', 'GSO', 'PSC', 'SYR', 'AVL', 'MHT',\n",
       "       'GRK', 'MCI', 'TXK', 'LRD', 'ABE', 'LWB', 'ERI', 'DAL', 'ANC',\n",
       "       'TUS', 'ROA', 'MOD', 'JNU', 'SBP', 'CDV', 'TUL', 'FSD', 'FNT',\n",
       "       'BTV', 'FCA', 'GNV', 'RAP', 'MDW', 'FWA', 'BUR', 'PNS', 'RST',\n",
       "       'HOU', 'BOI', 'CRP', 'BRO', 'ATW', 'SHV', 'SMX', 'RDM', 'ORF',\n",
       "       'GPT', 'KTN', 'ICT', 'SAF', 'CAK', 'IDA', 'MQT', 'VPS', 'CHS',\n",
       "       'MAF', 'HPN', 'AVP', 'AZO', 'TRI', 'GSP', 'HDN', 'MLU', 'EUG',\n",
       "       'AMA', 'MHK', 'ISP', 'CID', 'MOB', 'BGR', 'SRQ', 'MLI', 'EKO',\n",
       "       'LFT', 'TOL', 'ECP', 'PSG', 'SBN', 'FAT', 'ELM', 'YUM', 'CLD',\n",
       "       'FAI', 'ASE', 'BTR', 'BQK', 'COU', 'MRY', 'CEC', 'CWA', 'PWM',\n",
       "       'FLG', 'TLH', 'SDF', 'BFL', 'CHA', 'ACV', 'MGM', 'ROW', 'GTR',\n",
       "       'EWN', 'ILM', 'OTZ', 'SGU', 'OTH', 'CMX', 'SWF', 'BET', 'GTF',\n",
       "       'CMI', 'MFR', 'JAC', 'DLH', 'ABY', 'MTJ', 'SCC', 'DRO', 'TEX',\n",
       "       'FSM', 'COD', 'GGG', 'DBQ', 'GFK', 'BKG', 'AGS', 'BTM', 'DHN',\n",
       "       'TYR', 'EGE', 'PIH', 'VLD', 'MEI', 'SIT', 'MLB', 'PAH', 'YAK',\n",
       "       'DAB', 'HLN', 'PIA', 'SPI', 'GCC', 'IPL', 'TVC', 'OAJ', 'EAU',\n",
       "       'BGM', 'MYR', 'HRL', 'MKG', 'SUN', 'LSE', 'CIC', 'OME', 'ITH',\n",
       "       'LNK', 'BIL', 'CYS', 'LCH', 'BQN', 'WRG', 'BRW', 'SPS', 'RKS',\n",
       "       'TWF', 'LMT', 'ACT', 'PLN', 'ACY', 'ADK', 'SJT', 'IYK', 'LWS',\n",
       "       'BLI', 'SCE', 'MMH', 'LYH', 'GUM', 'CDC', 'ADQ', 'HTS', 'PIE',\n",
       "       'STX', 'FLO', 'UTM', 'CLL', 'ABR'], dtype=object)"
      ]
     },
     "execution_count": 6,
     "metadata": {},
     "output_type": "execute_result"
    }
   ],
   "source": [
    "# unique AirportFrom column values\n",
    "AirportFromUnique = df.AirportFrom.unique()\n",
    "AirportFromUnique"
   ]
  },
  {
   "cell_type": "code",
   "execution_count": 7,
   "id": "f5d3f511",
   "metadata": {},
   "outputs": [
    {
     "data": {
      "text/plain": [
       "array(['ATL', 'COS', 'BOS', 'OGG', 'BMI', 'MSY', 'EWR', 'DFW', 'BWI',\n",
       "       'CRW', 'LGB', 'BIS', 'CLT', 'IAH', 'LAX', 'JAX', 'SAV', 'CLE',\n",
       "       'FLL', 'SAN', 'BHM', 'ROC', 'DTW', 'STT', 'AUS', 'DCA', 'PHX',\n",
       "       'EYW', 'IND', 'JFK', 'ORD', 'PBI', 'SFO', 'MIA', 'DSM', 'SLC',\n",
       "       'PHL', 'BZN', 'GRB', 'MBS', 'SBA', 'TYS', 'MSP', 'DEN', 'SAT',\n",
       "       'BUF', 'RIC', 'SEA', 'PDX', 'LAS', 'IAD', 'HNL', 'BDL', 'MOT',\n",
       "       'PSE', 'CPR', 'SNA', 'STL', 'CVG', 'PIT', 'HSV', 'SGF', 'RDU',\n",
       "       'MEM', 'KOA', 'ELP', 'SJU', 'JAN', 'AEX', 'LGA', 'RSW', 'MDT',\n",
       "       'GUC', 'MKE', 'CAE', 'GRR', 'FAR', 'LIT', 'OMA', 'BNA', 'EVV',\n",
       "       'RDD', 'OKC', 'ITO', 'SJC', 'MCO', 'LBB', 'CSG', 'OAK', 'PHF',\n",
       "       'ABQ', 'SMF', 'FAY', 'ABI', 'MSO', 'MFE', 'GEG', 'MSN', 'TPA',\n",
       "       'DAY', 'RNO', 'PVD', 'ALB', 'CHO', 'ONT', 'LIH', 'PSP', 'LAN',\n",
       "       'LEX', 'XNA', 'GJT', 'CMH', 'GSO', 'PSC', 'SYR', 'AVL', 'MHT',\n",
       "       'GRK', 'MCI', 'TXK', 'LRD', 'ABE', 'LWB', 'ERI', 'DAL', 'ANC',\n",
       "       'TUS', 'ROA', 'MOD', 'JNU', 'SBP', 'CDV', 'TUL', 'FSD', 'FNT',\n",
       "       'BTV', 'FCA', 'GNV', 'RAP', 'MDW', 'FWA', 'BUR', 'PNS', 'RST',\n",
       "       'HOU', 'BOI', 'CRP', 'BRO', 'ATW', 'SHV', 'SMX', 'RDM', 'ORF',\n",
       "       'GPT', 'KTN', 'ICT', 'SAF', 'CAK', 'IDA', 'MQT', 'VPS', 'CHS',\n",
       "       'MAF', 'HPN', 'AVP', 'AZO', 'TRI', 'GSP', 'HDN', 'MLU', 'EUG',\n",
       "       'AMA', 'MHK', 'ISP', 'CID', 'MOB', 'BGR', 'SRQ', 'MLI', 'EKO',\n",
       "       'LFT', 'TOL', 'ECP', 'PSG', 'SBN', 'FAT', 'ELM', 'YUM', 'CLD',\n",
       "       'FAI', 'ASE', 'BTR', 'BQK', 'COU', 'MRY', 'CEC', 'CWA', 'PWM',\n",
       "       'FLG', 'TLH', 'SDF', 'BFL', 'CHA', 'ACV', 'MGM', 'ROW', 'GTR',\n",
       "       'EWN', 'ILM', 'OTZ', 'SGU', 'OTH', 'CMX', 'SWF', 'BET', 'GTF',\n",
       "       'CMI', 'MFR', 'JAC', 'DLH', 'ABY', 'MTJ', 'SCC', 'DRO', 'TEX',\n",
       "       'FSM', 'COD', 'GGG', 'DBQ', 'GFK', 'BKG', 'AGS', 'BTM', 'DHN',\n",
       "       'TYR', 'EGE', 'PIH', 'VLD', 'MEI', 'SIT', 'MLB', 'PAH', 'YAK',\n",
       "       'DAB', 'HLN', 'PIA', 'SPI', 'GCC', 'IPL', 'TVC', 'OAJ', 'EAU',\n",
       "       'BGM', 'MYR', 'HRL', 'MKG', 'SUN', 'LSE', 'CIC', 'OME', 'ITH',\n",
       "       'LNK', 'BIL', 'CYS', 'LCH', 'BQN', 'WRG', 'BRW', 'SPS', 'RKS',\n",
       "       'TWF', 'LMT', 'ACT', 'PLN', 'ACY', 'ADK', 'SJT', 'IYK', 'LWS',\n",
       "       'BLI', 'SCE', 'MMH', 'LYH', 'GUM', 'CDC', 'ADQ', 'HTS', 'PIE',\n",
       "       'STX', 'FLO', 'UTM', 'CLL', 'ABR'], dtype=object)"
      ]
     },
     "execution_count": 7,
     "metadata": {},
     "output_type": "execute_result"
    }
   ],
   "source": [
    "# unique AirportTo column values\n",
    "AirportToUnique = df.AirportFrom.unique()\n",
    "AirportToUnique"
   ]
  },
  {
   "cell_type": "code",
   "execution_count": 8,
   "id": "1eac4d9f",
   "metadata": {},
   "outputs": [
    {
     "data": {
      "text/plain": [
       "18"
      ]
     },
     "execution_count": 8,
     "metadata": {},
     "output_type": "execute_result"
    }
   ],
   "source": [
    "# returns how many unique values there are for Airline column\n",
    "lenAirlineUnique = len(df.Airline.unique())\n",
    "lenAirlineUnique"
   ]
  },
  {
   "cell_type": "code",
   "execution_count": 9,
   "id": "a76723ce",
   "metadata": {},
   "outputs": [
    {
     "data": {
      "text/plain": [
       "293"
      ]
     },
     "execution_count": 9,
     "metadata": {},
     "output_type": "execute_result"
    }
   ],
   "source": [
    "# returns how many unique values there are for AirportFrom column\n",
    "lenAirportFromUnique = len(df.AirportFrom.unique())\n",
    "lenAirportFromUnique"
   ]
  },
  {
   "cell_type": "code",
   "execution_count": 10,
   "id": "f4bc2216",
   "metadata": {},
   "outputs": [
    {
     "data": {
      "text/plain": [
       "293"
      ]
     },
     "execution_count": 10,
     "metadata": {},
     "output_type": "execute_result"
    }
   ],
   "source": [
    "# returns how many unique values there are for AirportTo column\n",
    "lenAirportToUnique = len(df.AirportTo.unique())\n",
    "lenAirportToUnique"
   ]
  },
  {
   "cell_type": "code",
   "execution_count": 11,
   "id": "826d42ca",
   "metadata": {},
   "outputs": [],
   "source": [
    "# adds a column to df that has numerical values associated with the corresponding Airline column\n",
    "Airlinelst = list(range(0,lenAirlineUnique))\n",
    "df['NumAirline'] = df['Airline']\n",
    "df['NumAirline'].replace(AirlineUnique, Airlinelst , inplace=True)  "
   ]
  },
  {
   "cell_type": "code",
   "execution_count": 12,
   "id": "6063c6cc",
   "metadata": {},
   "outputs": [],
   "source": [
    "# adds a column to df that has numerical values associated with the corresponding AirportFrom column\n",
    "AirportFromlst = list(range(0,lenAirportFromUnique))\n",
    "df['NumAirportFrom'] = df['AirportFrom']\n",
    "df['NumAirportFrom'].replace(AirportFromUnique, AirportFromlst , inplace=True) "
   ]
  },
  {
   "cell_type": "code",
   "execution_count": 13,
   "id": "0ec54365",
   "metadata": {},
   "outputs": [],
   "source": [
    "# adds a column to df that has numerical values associated with the corresponding AirportTo column\n",
    "AirportTolst = list(range(0,lenAirportToUnique))\n",
    "df['NumAirportTo'] = df['AirportTo']\n",
    "df['NumAirportTo'].replace(AirportToUnique, AirportTolst , inplace=True) "
   ]
  },
  {
   "cell_type": "code",
   "execution_count": 14,
   "id": "96f2c6e0",
   "metadata": {},
   "outputs": [
    {
     "data": {
      "text/html": [
       "<div>\n",
       "<style scoped>\n",
       "    .dataframe tbody tr th:only-of-type {\n",
       "        vertical-align: middle;\n",
       "    }\n",
       "\n",
       "    .dataframe tbody tr th {\n",
       "        vertical-align: top;\n",
       "    }\n",
       "\n",
       "    .dataframe thead th {\n",
       "        text-align: right;\n",
       "    }\n",
       "</style>\n",
       "<table border=\"1\" class=\"dataframe\">\n",
       "  <thead>\n",
       "    <tr style=\"text-align: right;\">\n",
       "      <th></th>\n",
       "      <th>Flight</th>\n",
       "      <th>Time</th>\n",
       "      <th>Length</th>\n",
       "      <th>Airline</th>\n",
       "      <th>AirportFrom</th>\n",
       "      <th>AirportTo</th>\n",
       "      <th>DayOfWeek</th>\n",
       "      <th>Class</th>\n",
       "      <th>NumAirline</th>\n",
       "      <th>NumAirportFrom</th>\n",
       "      <th>NumAirportTo</th>\n",
       "    </tr>\n",
       "  </thead>\n",
       "  <tbody>\n",
       "    <tr>\n",
       "      <th>0</th>\n",
       "      <td>2313</td>\n",
       "      <td>1296</td>\n",
       "      <td>141</td>\n",
       "      <td>DL</td>\n",
       "      <td>ATL</td>\n",
       "      <td>HOU</td>\n",
       "      <td>1</td>\n",
       "      <td>0</td>\n",
       "      <td>0</td>\n",
       "      <td>0</td>\n",
       "      <td>144</td>\n",
       "    </tr>\n",
       "    <tr>\n",
       "      <th>1</th>\n",
       "      <td>6948</td>\n",
       "      <td>360</td>\n",
       "      <td>146</td>\n",
       "      <td>OO</td>\n",
       "      <td>COS</td>\n",
       "      <td>ORD</td>\n",
       "      <td>4</td>\n",
       "      <td>0</td>\n",
       "      <td>1</td>\n",
       "      <td>1</td>\n",
       "      <td>30</td>\n",
       "    </tr>\n",
       "    <tr>\n",
       "      <th>2</th>\n",
       "      <td>1247</td>\n",
       "      <td>1170</td>\n",
       "      <td>143</td>\n",
       "      <td>B6</td>\n",
       "      <td>BOS</td>\n",
       "      <td>CLT</td>\n",
       "      <td>3</td>\n",
       "      <td>0</td>\n",
       "      <td>2</td>\n",
       "      <td>2</td>\n",
       "      <td>12</td>\n",
       "    </tr>\n",
       "    <tr>\n",
       "      <th>3</th>\n",
       "      <td>31</td>\n",
       "      <td>1410</td>\n",
       "      <td>344</td>\n",
       "      <td>US</td>\n",
       "      <td>OGG</td>\n",
       "      <td>PHX</td>\n",
       "      <td>6</td>\n",
       "      <td>0</td>\n",
       "      <td>3</td>\n",
       "      <td>3</td>\n",
       "      <td>26</td>\n",
       "    </tr>\n",
       "    <tr>\n",
       "      <th>4</th>\n",
       "      <td>563</td>\n",
       "      <td>692</td>\n",
       "      <td>98</td>\n",
       "      <td>FL</td>\n",
       "      <td>BMI</td>\n",
       "      <td>ATL</td>\n",
       "      <td>4</td>\n",
       "      <td>0</td>\n",
       "      <td>4</td>\n",
       "      <td>4</td>\n",
       "      <td>0</td>\n",
       "    </tr>\n",
       "    <tr>\n",
       "      <th>...</th>\n",
       "      <td>...</td>\n",
       "      <td>...</td>\n",
       "      <td>...</td>\n",
       "      <td>...</td>\n",
       "      <td>...</td>\n",
       "      <td>...</td>\n",
       "      <td>...</td>\n",
       "      <td>...</td>\n",
       "      <td>...</td>\n",
       "      <td>...</td>\n",
       "      <td>...</td>\n",
       "    </tr>\n",
       "    <tr>\n",
       "      <th>539377</th>\n",
       "      <td>6973</td>\n",
       "      <td>530</td>\n",
       "      <td>72</td>\n",
       "      <td>OO</td>\n",
       "      <td>GEG</td>\n",
       "      <td>SEA</td>\n",
       "      <td>5</td>\n",
       "      <td>1</td>\n",
       "      <td>1</td>\n",
       "      <td>96</td>\n",
       "      <td>47</td>\n",
       "    </tr>\n",
       "    <tr>\n",
       "      <th>539378</th>\n",
       "      <td>1264</td>\n",
       "      <td>560</td>\n",
       "      <td>115</td>\n",
       "      <td>WN</td>\n",
       "      <td>LAS</td>\n",
       "      <td>DEN</td>\n",
       "      <td>4</td>\n",
       "      <td>1</td>\n",
       "      <td>5</td>\n",
       "      <td>49</td>\n",
       "      <td>43</td>\n",
       "    </tr>\n",
       "    <tr>\n",
       "      <th>539379</th>\n",
       "      <td>5209</td>\n",
       "      <td>827</td>\n",
       "      <td>74</td>\n",
       "      <td>EV</td>\n",
       "      <td>CAE</td>\n",
       "      <td>ATL</td>\n",
       "      <td>2</td>\n",
       "      <td>1</td>\n",
       "      <td>9</td>\n",
       "      <td>74</td>\n",
       "      <td>0</td>\n",
       "    </tr>\n",
       "    <tr>\n",
       "      <th>539380</th>\n",
       "      <td>607</td>\n",
       "      <td>715</td>\n",
       "      <td>65</td>\n",
       "      <td>WN</td>\n",
       "      <td>BWI</td>\n",
       "      <td>BUF</td>\n",
       "      <td>4</td>\n",
       "      <td>1</td>\n",
       "      <td>5</td>\n",
       "      <td>8</td>\n",
       "      <td>45</td>\n",
       "    </tr>\n",
       "    <tr>\n",
       "      <th>539381</th>\n",
       "      <td>6377</td>\n",
       "      <td>770</td>\n",
       "      <td>55</td>\n",
       "      <td>OO</td>\n",
       "      <td>CPR</td>\n",
       "      <td>DEN</td>\n",
       "      <td>2</td>\n",
       "      <td>1</td>\n",
       "      <td>1</td>\n",
       "      <td>55</td>\n",
       "      <td>43</td>\n",
       "    </tr>\n",
       "  </tbody>\n",
       "</table>\n",
       "<p>539382 rows × 11 columns</p>\n",
       "</div>"
      ],
      "text/plain": [
       "        Flight  Time  Length Airline AirportFrom AirportTo  DayOfWeek  Class  \\\n",
       "0         2313  1296     141      DL         ATL       HOU          1      0   \n",
       "1         6948   360     146      OO         COS       ORD          4      0   \n",
       "2         1247  1170     143      B6         BOS       CLT          3      0   \n",
       "3           31  1410     344      US         OGG       PHX          6      0   \n",
       "4          563   692      98      FL         BMI       ATL          4      0   \n",
       "...        ...   ...     ...     ...         ...       ...        ...    ...   \n",
       "539377    6973   530      72      OO         GEG       SEA          5      1   \n",
       "539378    1264   560     115      WN         LAS       DEN          4      1   \n",
       "539379    5209   827      74      EV         CAE       ATL          2      1   \n",
       "539380     607   715      65      WN         BWI       BUF          4      1   \n",
       "539381    6377   770      55      OO         CPR       DEN          2      1   \n",
       "\n",
       "        NumAirline  NumAirportFrom  NumAirportTo  \n",
       "0                0               0           144  \n",
       "1                1               1            30  \n",
       "2                2               2            12  \n",
       "3                3               3            26  \n",
       "4                4               4             0  \n",
       "...            ...             ...           ...  \n",
       "539377           1              96            47  \n",
       "539378           5              49            43  \n",
       "539379           9              74             0  \n",
       "539380           5               8            45  \n",
       "539381           1              55            43  \n",
       "\n",
       "[539382 rows x 11 columns]"
      ]
     },
     "execution_count": 14,
     "metadata": {},
     "output_type": "execute_result"
    }
   ],
   "source": [
    "# updated df\n",
    "df "
   ]
  },
  {
   "cell_type": "code",
   "execution_count": 15,
   "id": "cd5695c4",
   "metadata": {},
   "outputs": [
    {
     "name": "stdout",
     "output_type": "stream",
     "text": [
      "          feature       VIF\n",
      "0          Flight  2.475941\n",
      "1            Time  6.362384\n",
      "2          Length  3.766995\n",
      "3      NumAirline  2.682671\n",
      "4  NumAirportFrom  2.011699\n",
      "5    NumAirportTo  2.147090\n",
      "6       DayOfWeek  4.433084\n"
     ]
    }
   ],
   "source": [
    "# prints VIF results for predictor variables. Hoping for VIF results less than 5\n",
    "x = df[['Flight','Time','Length','NumAirline', 'NumAirportFrom','NumAirportTo','DayOfWeek']]  \n",
    "x\n",
    "vif = pd.DataFrame()    \n",
    "vif[\"feature\"] = df[['Flight','Time','Length','NumAirline', 'NumAirportFrom','NumAirportTo','DayOfWeek']].columns \n",
    "vif[\"VIF\"] = [variance_inflation_factor(x.values, i) for i in range(len(x.columns))] \n",
    "print(vif)"
   ]
  },
  {
   "cell_type": "markdown",
   "id": "90d1893c",
   "metadata": {},
   "source": [
    "Based on our VIF results, Flight, Length, Airline, AirportFrom, AirportTo, and DayOfWeek have a small amount of multicollinearity. However, it is not singificant enough to worry about. One variable we should pay attention to is Time, as it has a VIF of 6.362, making it the highest in the dataset. This variable could be a problem when it comes to performing logistic regression. However, the rest of the variables are independent from each other, making it safe to proceed with logistic regression. "
   ]
  },
  {
   "cell_type": "code",
   "execution_count": 16,
   "id": "7b177b68",
   "metadata": {},
   "outputs": [
    {
     "name": "stdout",
     "output_type": "stream",
     "text": [
      "Prediction accuracy of model: 0.5598134912910073\n"
     ]
    }
   ],
   "source": [
    "# tests and trains logistic regression model using independent and dependent variables\n",
    "x = df[['Flight','Length','NumAirline', 'NumAirportFrom','NumAirportTo','DayOfWeek']]\n",
    "y = df['Class']\n",
    "X_train, X_test, y_train, y_test = train_test_split(x,y , train_size=0.8, shuffle=True)\n",
    "model = linear_model.LogisticRegression()\n",
    "model.fit(X_train,y_train)\n",
    "# prints model prediction accuracy\n",
    "modelPred = model.score(X_test, y_test)\n",
    "print(f'Prediction accuracy of model: {modelPred}')"
   ]
  },
  {
   "cell_type": "code",
   "execution_count": 17,
   "id": "9ab52261",
   "metadata": {},
   "outputs": [
    {
     "data": {
      "text/plain": [
       "[Text(0, 0.5, 'Failure'), Text(0, 1.5, 'Success')]"
      ]
     },
     "execution_count": 17,
     "metadata": {},
     "output_type": "execute_result"
    },
    {
     "data": {
      "image/png": "[encoded data removed]",
      "text/plain": [
       "<Figure size 720x720 with 2 Axes>"
      ]
     },
     "metadata": {
      "needs_background": "light"
     },
     "output_type": "display_data"
    }
   ],
   "source": [
    "# confusion matrix heat map\n",
    "plot = model.predict(X_test)\n",
    "confusionMatrix = confusion_matrix(y_test, plot)\n",
    "plt.figure(figsize = (10,10))\n",
    "plot = sn.heatmap(confusionMatrix, annot = True)\n",
    "# confusion matrix heat map labeling\n",
    "plot.set_xlabel('Predicted Values')\n",
    "plot.set_ylabel('Actual Values') \n",
    "plot.set_title('Confusion Matrix')\n",
    "plot.xaxis.set_ticklabels(['Failure', 'Success'])\n",
    "plot.yaxis.set_ticklabels(['Failure', 'Success'])\n"
   ]
  },
  {
   "cell_type": "markdown",
   "id": "98bc46bf",
   "metadata": {},
   "source": [
    "This model generates a high number of true negatives. However, it also generates a high number of false negatives. Both true positives and false negatives occur an equal and significant amount of times as well."
   ]
  },
  {
   "cell_type": "markdown",
   "id": "2e6458cd",
   "metadata": {},
   "source": [
    "Overall, our model is not too accurate and could be improved on."
   ]
  }
 ],
 "metadata": {
  "kernelspec": {
   "display_name": "Python 3 (ipykernel)",
   "language": "python",
   "name": "python3"
  },
  "language_info": {
   "codemirror_mode": {
    "name": "ipython",
    "version": 3
   },
   "file_extension": ".py",
   "mimetype": "text/x-python",
   "name": "python",
   "nbconvert_exporter": "python",
   "pygments_lexer": "ipython3",
   "version": "3.9.12"
  }
 },
 "nbformat": 4,
 "nbformat_minor": 5
}
